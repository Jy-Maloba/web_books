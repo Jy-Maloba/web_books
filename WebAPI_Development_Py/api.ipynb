{
 "cells": [
  {
   "cell_type": "code",
   "execution_count": null,
   "metadata": {},
   "outputs": [],
   "source": [
    "import requests #import python's requests\n",
    "URL = \"https//api.coindesk.com/v1/bpi/currentprice.json\" #store the url of the endpoint in a variable url\n",
    "response = requests.get(URL) #sends a get request to the url\n",
    "data = json.loads(response.content.decode(\"utf8\")) #extract the response format as json\n",
    "data #prints out the respose data"
   ]
  },
  {
   "cell_type": "code",
   "execution_count": null,
   "metadata": {},
   "outputs": [],
   "source": [
    "#extracting only the latest price of bitcoin\n",
    "bitcoin_price = data[\"bpi\"][\"USD\"][\"rate_float\"]\n",
    "bitcoin_price"
   ]
  }
 ],
 "metadata": {
  "kernelspec": {
   "display_name": "Python 3.10.4 64-bit",
   "language": "python",
   "name": "python3"
  },
  "language_info": {
   "codemirror_mode": {
    "name": "ipython",
    "version": 3
   },
   "file_extension": ".py",
   "mimetype": "text/x-python",
   "name": "python",
   "nbconvert_exporter": "python",
   "pygments_lexer": "ipython3",
   "version": "3.10.4"
  },
  "orig_nbformat": 4,
  "vscode": {
   "interpreter": {
    "hash": "a9cff5a362bc38ef45d817ae74b1af54d6a076e3d773891282bce078b815ba34"
   }
  }
 },
 "nbformat": 4,
 "nbformat_minor": 2
}
